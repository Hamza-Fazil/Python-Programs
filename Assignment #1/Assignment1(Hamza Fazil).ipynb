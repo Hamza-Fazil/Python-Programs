{
 "cells": [
  {
   "cell_type": "code",
   "execution_count": 3,
   "id": "edd9fd4d",
   "metadata": {
    "scrolled": true
   },
   "outputs": [
    {
     "name": "stdout",
     "output_type": "stream",
     "text": [
      "Twinkle, twinkle ,little star\n",
      "         How I wonder what you are! \n",
      "                  Up above the world so high,\n",
      "                  Like a diamond in the sky.\n",
      "Twinkle, twinkle ,little star\n",
      "         How I wonder what you are \n"
     ]
    }
   ],
   "source": [
    "print(\"Twinkle, twinkle ,little star\")\n",
    "print(\"         How I wonder what you are! \")\n",
    "print(\"                  Up above the world so high,\")\n",
    "print(\"                  Like a diamond in the sky.\")\n",
    "print(\"Twinkle, twinkle ,little star\")\n",
    "print(\"         How I wonder what you are \")"
   ]
  },
  {
   "cell_type": "code",
   "execution_count": 4,
   "id": "59f28fdf",
   "metadata": {},
   "outputs": [
    {
     "name": "stdout",
     "output_type": "stream",
     "text": [
      "3.9.7 (default, Sep 16 2021, 16:59:28) [MSC v.1916 64 bit (AMD64)]\n"
     ]
    }
   ],
   "source": [
    "import sys\n",
    "print(sys.version)"
   ]
  },
  {
   "cell_type": "code",
   "execution_count": 5,
   "id": "526cd0fa",
   "metadata": {},
   "outputs": [
    {
     "name": "stdout",
     "output_type": "stream",
     "text": [
      "2021-12-31 02:50:05.551295\n"
     ]
    }
   ],
   "source": [
    "import datetime\n",
    "TodayDate= datetime.datetime.now()\n",
    "print(TodayDate)"
   ]
  },
  {
   "cell_type": "code",
   "execution_count": 8,
   "id": "ad952e4a",
   "metadata": {},
   "outputs": [
    {
     "name": "stdout",
     "output_type": "stream",
     "text": [
      "Enter Radius:5\n",
      "Area of circle is:\n",
      "78.55\n"
     ]
    }
   ],
   "source": [
    "r=float(input(\"Enter Radius:\"))     \n",
    "area=3.142 * r *r\n",
    "print(\"Area of circle is:\")\n",
    "print(area)"
   ]
  },
  {
   "cell_type": "code",
   "execution_count": 11,
   "id": "77a97a56",
   "metadata": {},
   "outputs": [
    {
     "name": "stdout",
     "output_type": "stream",
     "text": [
      "enter first name:Hamza\n",
      "enter last name:Fazil\n",
      "Fazil Hamza\n"
     ]
    }
   ],
   "source": [
    "firstname=(input(\"enter first name:\"))\n",
    "lastname=(input(\"enter last name:\"))\n",
    "print(\"\"+lastname+\" \"+firstname)"
   ]
  },
  {
   "cell_type": "code",
   "execution_count": 13,
   "id": "36fcb0bd",
   "metadata": {},
   "outputs": [
    {
     "name": "stdout",
     "output_type": "stream",
     "text": [
      "enter first value17\n",
      "enter second value20\n",
      "total sum of two values are:\n",
      "37.0\n"
     ]
    }
   ],
   "source": [
    "firstvalue=float(input(\"enter first value\"))\n",
    "secondvalue=float(input(\"enter second value\"))\n",
    "sum= firstvalue + secondvalue\n",
    "print(\"total sum of two values are:\")\n",
    "print(sum)"
   ]
  }
 ],
 "metadata": {
  "kernelspec": {
   "display_name": "Python 3 (ipykernel)",
   "language": "python",
   "name": "python3"
  },
  "language_info": {
   "codemirror_mode": {
    "name": "ipython",
    "version": 3
   },
   "file_extension": ".py",
   "mimetype": "text/x-python",
   "name": "python",
   "nbconvert_exporter": "python",
   "pygments_lexer": "ipython3",
   "version": "3.9.7"
  }
 },
 "nbformat": 4,
 "nbformat_minor": 5
}
